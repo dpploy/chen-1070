{
 "cells": [
  {
   "cell_type": "markdown",
   "metadata": {},
   "source": [
    "ChEn-1070: Computational Methods in Chemical Engineering Fall 2019 UMass Lowell; Prof. V. F. de Almeida **17Sep2019**\n",
    "\n",
    "# 02. Python: Variables, Types, and Structures"
   ]
  },
  {
   "cell_type": "markdown",
   "metadata": {},
   "source": [
    "---\n",
    "## Table of Contents<a id=\"toc\"></a>\n",
    "* [Introduction](#introduction)\n",
    "* [Variables](#variables)\n",
    " - [Boolean](#boolean)\n",
    " - [String](#string)\n",
    " - [Numeric](#numeric)\n",
    "   + [Math functions](#mathfunc)\n",
    " - [Conversion](#conversion)\n",
    "* [Structures](#structures)\n",
    " - [List](#list)\n",
    " - [Dictionary](#dictionary)\n",
    " - [Tuple](#tuple)\n",
    " - [Set](#set)\n",
    "* [Summary](#summary)\n",
    "* [Interactive Help](#help)\n",
    "* [Practicing w/ Lists](#lists)\n",
    "* [Practicing w/ Dictionaries](#dictionaries)\n",
    "* [Practicing w/ Tuples](#tuples)\n",
    "* [Practicing w/ Sets](#sets)\n",
    "\n",
    "---"
   ]
  },
  {
   "cell_type": "markdown",
   "metadata": {},
   "source": [
    "## Introduction<a id=\"introduction\"></a>\n",
    "+ *Variables* are objects that hold data.\n",
    "+ *Types* determine what kind of data a variable is supposed to contain. Python variable types are dynamically assigned/modified at runtime. *Introspection* allows for finding the type of a variable.\n",
    "+ *Structures* are different ways of storing data\n",
    "\n",
    "#### We will use in this course 3 basic data types (or types):\n",
    "+ **Boolean:** `True` or `False`\n",
    "* **Strings:** alphanumeric\n",
    "- **Numeric:** integer (`int`) or float (`float`)\n",
    "\n",
    "#### [Python](https://www.python.org/) ([documentation](https://docs.python.org/3.6/contents.html)) has also a help utiliy in the interpreter\n",
    "+ `help()`\n",
    "\n",
    "If you want to learn Python in a deeper way, one book I personally recommend is: [*Learning Python*](https://www.amazon.com/Learning-Python-5th-Mark-Lutz/dp/1449355730) by Mark Lutz, $5^\\text{th}$ Edition, O'Reilly, **2013**."
   ]
  },
  {
   "cell_type": "code",
   "execution_count": null,
   "metadata": {},
   "outputs": [],
   "source": [
    "'''Interactive help warning'''\n",
    "\n",
    "#help()  # don't leave this running on your interactive session; clear the output after running it"
   ]
  },
  {
   "cell_type": "markdown",
   "metadata": {},
   "source": [
    "## Variables<a id=\"variables\"></a>\n",
    "Standard practice in Python programming is to use snake case variable names, i.e. \n",
    "<span style=\"color:red\">*my_variable_name*</span>"
   ]
  },
  {
   "cell_type": "markdown",
   "metadata": {},
   "source": [
    "### Boolean variables<a id=\"boolean\"></a>"
   ]
  },
  {
   "cell_type": "code",
   "execution_count": null,
   "metadata": {},
   "outputs": [],
   "source": [
    "'''Creation and inspection'''\n",
    "\n",
    "hello = True                                     # hello is a variable name and type is boolean or the same as 1\n",
    "a = hello                                \n",
    "b = False                                        # a boolean or the same as 0\n",
    "print('a is ',a, type(a), '; b is ', b, type(b)) # print command for output to standard output terminal"
   ]
  },
  {
   "cell_type": "code",
   "execution_count": null,
   "metadata": {},
   "outputs": [],
   "source": [
    "'''The \"print\" command is a reserved keyword in Python'''\n",
    "\n",
    "help(print)"
   ]
  },
  {
   "cell_type": "markdown",
   "metadata": {},
   "source": [
    "### String (alpha-numeric) variables<a id = \"string\"></a>"
   ]
  },
  {
   "cell_type": "code",
   "execution_count": 44,
   "metadata": {},
   "outputs": [
    {
     "name": "stdout",
     "output_type": "stream",
     "text": [
      "H2O  is of type <class 'str'>\n"
     ]
    }
   ],
   "source": [
    "'''Creating and inspecting a \"water\" string type'''\n",
    "\n",
    "water = 'H2O'                           # the water variable is assigned a string using quotes\n",
    "print(water,' is of type',type(water))  "
   ]
  },
  {
   "cell_type": "code",
   "execution_count": null,
   "metadata": {
    "scrolled": true
   },
   "outputs": [],
   "source": [
    "'''Creating and inspecting a \"nuclide\" string type'''\n",
    "\n",
    "nuclide = 'U-238'                # assigned to using quotes\n",
    "print(str.__dict__)              # there is a lot more to a str() type...\n",
    "help(str)                        # more human friendly information"
   ]
  },
  {
   "cell_type": "code",
   "execution_count": null,
   "metadata": {},
   "outputs": [],
   "source": [
    "'''Accessing the indivicual characters of the \"nuclide\" string type'''\n",
    "\n",
    "print('# of characters in nuclide: ',len(nuclide))  # the length of the string\n",
    "print('nuclide[0] = ', nuclide[0])                  # access to each string character with indexing operator []\n",
    "print('nuclide[1] = ', nuclide[1])                  # access to each string character with indexing operator []\n",
    "print('nuclide[2] = ', nuclide[2])                  # access to each string character with indexing operator []"
   ]
  },
  {
   "cell_type": "code",
   "execution_count": null,
   "metadata": {},
   "outputs": [],
   "source": [
    "'''String types are immutable'''\n",
    "\n",
    "#nuclide[0] = 'Pu'    # let's change U to Pu; this is not allowed"
   ]
  },
  {
   "cell_type": "code",
   "execution_count": null,
   "metadata": {
    "scrolled": false
   },
   "outputs": [],
   "source": [
    "'''Applying the \"split()\" method on a string type'''\n",
    "\n",
    "tmp = nuclide.split('-')            # split the string at the '-' character and save the result in tmp (i.e. list)\n",
    "nuclide_element = tmp[0]            # capture the nuclide element             \n",
    "nuclide_isotope = tmp[1]            # capture the isotope number\n",
    "print('tmp type is ',type(tmp),'with values: ',tmp)"
   ]
  },
  {
   "cell_type": "code",
   "execution_count": null,
   "metadata": {},
   "outputs": [],
   "source": [
    "'''Slicing of string data type'''\n",
    "\n",
    "print(nuclide[-3:])"
   ]
  },
  {
   "cell_type": "code",
   "execution_count": 46,
   "metadata": {},
   "outputs": [
    {
     "name": "stdout",
     "output_type": "stream",
     "text": [
      "H2Opure\n"
     ]
    }
   ],
   "source": [
    "'''Concatenation of strings'''\n",
    "\n",
    "label = 'pure'\n",
    "water_label = water + label # use the \"+\" concatenation operator\n",
    "print(water_label)"
   ]
  },
  {
   "cell_type": "code",
   "execution_count": 48,
   "metadata": {},
   "outputs": [
    {
     "name": "stdout",
     "output_type": "stream",
     "text": [
      "H2O_pure\n"
     ]
    }
   ],
   "source": [
    "'''More concatenation'''\n",
    "\n",
    "water_label = water + '_' + label # use the \"+\" concatenation operator\n",
    "print(water_label)"
   ]
  },
  {
   "cell_type": "markdown",
   "metadata": {},
   "source": [
    "### Numeric variables<a id=\"numeric\"></a>"
   ]
  },
  {
   "cell_type": "code",
   "execution_count": null,
   "metadata": {},
   "outputs": [],
   "source": [
    "a = 10         # variable a is assigned the integer 10\n",
    "print(type(a)) # print statement to print the type of a"
   ]
  },
  {
   "cell_type": "code",
   "execution_count": null,
   "metadata": {},
   "outputs": [],
   "source": [
    "a = 1.3e4       # float\n",
    "print(type(a))"
   ]
  },
  {
   "cell_type": "code",
   "execution_count": null,
   "metadata": {},
   "outputs": [],
   "source": [
    "a = 1\n",
    "print('type(a) =',type(a))\n",
    "a = 1.0\n",
    "print('type(a) =',type(a))"
   ]
  },
  {
   "cell_type": "markdown",
   "metadata": {},
   "source": [
    "NB: different types; `int` versus `float`. An important difference in rounding off or truncation error."
   ]
  },
  {
   "cell_type": "markdown",
   "metadata": {},
   "source": [
    "#### Math functions<a id=\"mathfunc\"></a>"
   ]
  },
  {
   "cell_type": "markdown",
   "metadata": {},
   "source": [
    "**Importing Math Module:**  *A Module is a collection of Data & Functions*"
   ]
  },
  {
   "cell_type": "code",
   "execution_count": null,
   "metadata": {},
   "outputs": [],
   "source": [
    "import math            # Math module contains basic Math constants & Functions"
   ]
  },
  {
   "cell_type": "markdown",
   "metadata": {},
   "source": [
    "**Contents of Math Module:** *Use help() function*"
   ]
  },
  {
   "cell_type": "code",
   "execution_count": null,
   "metadata": {},
   "outputs": [],
   "source": [
    "help(math)"
   ]
  },
  {
   "cell_type": "markdown",
   "metadata": {},
   "source": [
    "**Accessing Data:** *Access pi value*"
   ]
  },
  {
   "cell_type": "code",
   "execution_count": null,
   "metadata": {},
   "outputs": [],
   "source": [
    "pi = math.pi\n",
    "print(pi)"
   ]
  },
  {
   "cell_type": "markdown",
   "metadata": {},
   "source": [
    "**Accessing Functions:** *Access square root & power function: sqrt()*"
   ]
  },
  {
   "cell_type": "code",
   "execution_count": null,
   "metadata": {},
   "outputs": [],
   "source": [
    "x = 4\n",
    "sqrt_x = math.sqrt(4)           # Calculates squareroot(x)\n",
    "pow_x_2 = math.pow(x,2)         # Calculates x^2\n",
    "print('square root of %1.0f is %1.0f'%(x,sqrt_x))\n",
    "print('square of %1.0f is %1.0f'%(x,pow_x_2))"
   ]
  },
  {
   "cell_type": "markdown",
   "metadata": {},
   "source": [
    "### Type conversion (implicit and explicit or casting) and dynamic type change<a id=\"conversion\"></a>"
   ]
  },
  {
   "cell_type": "code",
   "execution_count": null,
   "metadata": {},
   "outputs": [],
   "source": [
    "'''Casting an integer to float'''\n",
    "\n",
    "a = float(5)     # an integer is casted into a float\n",
    "print(type(a))"
   ]
  },
  {
   "cell_type": "code",
   "execution_count": null,
   "metadata": {},
   "outputs": [],
   "source": [
    "'''Casting up'''\n",
    "\n",
    "a = 1; b = 1.0    # note a is an integer and b is a float\n",
    "print(type(a*b))  # the result of the product is a float"
   ]
  },
  {
   "cell_type": "code",
   "execution_count": null,
   "metadata": {},
   "outputs": [],
   "source": [
    "'''Truncation casting'''\n",
    "\n",
    "a = int(5.87)         # a float is casted into a truncated integer\n",
    "b = int(5.21)         # a float is casted into a truncated integer (no rounding to the next integer)\n",
    "print('a =',a,';', type(a)) # print format statement\n",
    "print('b =',b,';', type(b)) # print format statement"
   ]
  },
  {
   "cell_type": "code",
   "execution_count": null,
   "metadata": {},
   "outputs": [],
   "source": [
    "'''Dynamic type change'''\n",
    "\n",
    "a = 10         # integer\n",
    "print(type(a))\n",
    "a = True       # now assigned to a boolean\n",
    "print(type(a))"
   ]
  },
  {
   "cell_type": "markdown",
   "metadata": {},
   "source": [
    "## Structures<a id=\"structures\"></a>\n",
    "\n",
    "Python has 3 basic native data structures of interest in this course:\n",
    "- **Linked lists:** `list()` (ordered sequence of any type of objects)\n",
    "- **Dictionary:** `dict()`   (unordered sequence of key-value pairs of any type of objects)\n",
    "- **Tuples:** `tuple()`      (immutable sequence of any type of objects)\n",
    "- **Sets:** `set()`          (immutable group of unique objects of *certain* types)"
   ]
  },
  {
   "cell_type": "markdown",
   "metadata": {},
   "source": [
    "### List: sequence of data types<a id=\"list\"></a>"
   ]
  },
  {
   "cell_type": "code",
   "execution_count": null,
   "metadata": {},
   "outputs": [],
   "source": [
    "'''Creation of list types'''\n",
    "\n",
    "atoms = list()                                  # create empty list of atoms via list()\n",
    "atoms = []                                      # create empty list of atoms via brackets []\n",
    "print('atoms = ',atoms, '; type =',type(atoms))\n",
    "\n",
    "water_atoms = ['2*H','O']                       # create list of atoms in a water molecule: use the [...] container\n",
    "methane_atoms = ['C','4*H']                     # list of atoms in a methane molecule: use the [...] container\n",
    "print('water = ',water_atoms)\n",
    "print('methane = ', methane_atoms)"
   ]
  },
  {
   "cell_type": "code",
   "execution_count": null,
   "metadata": {},
   "outputs": [],
   "source": [
    "'''Access to list items via indexing: indexing in Python uses zero offset'''\n",
    "\n",
    "print(water_atoms, '; length = ',len(water_atoms)) # note the len() method used on \"water_atoms\"\n",
    "print(water_atoms[0])                             # note indexing operation on \"water_atoms\"\n",
    "print(water_atoms[1])"
   ]
  },
  {
   "cell_type": "markdown",
   "metadata": {},
   "source": [
    "### Dictionary: key-value pairs in any order<a id='dictionary'></a>"
   ]
  },
  {
   "cell_type": "code",
   "execution_count": null,
   "metadata": {},
   "outputs": [],
   "source": [
    "'''Creation of a \"species\" dictionary type'''\n",
    "\n",
    "species = dict()           # create an empty dictionary type variable named \"species\"\n",
    "species = {}               # another way to create the same variable {} (curly brackets)\n",
    "\n",
    "species = {'water': water_atoms, 'methane': methane_atoms}  # one way to create a species dictionary {} container\n",
    "print('species type =',type(species))                       # keys and values pairs:  {key:value, key:value, ...}\n",
    "print('species = ',species)\n",
    "\n",
    "'''Creation of a dictionary type using the key and its value directly'''\n",
    "\n",
    "species = dict()  # clear the species object and make it a dict type\n",
    "species['methane'] = methane_atoms     # insert directly into the dictionary (note: order does not matter)\n",
    "species['water']   = water_atoms       # insert directly into the dictionary (note: order does not matter)\n",
    "print('species type =', type(species))\n",
    "print('species = ', species)\n",
    "print(\"species['water'] = \", species['water'])"
   ]
  },
  {
   "cell_type": "code",
   "execution_count": null,
   "metadata": {},
   "outputs": [],
   "source": [
    "'''Inspect keys and values'''\n",
    "\n",
    "print(species.keys())      # keys() method to access the keys\n",
    "print(species.values())    # values() method to access the values"
   ]
  },
  {
   "cell_type": "markdown",
   "metadata": {},
   "source": [
    "### Tuple: immutable sequence of data types<a id=\"tuple\"></a>"
   ]
  },
  {
   "cell_type": "code",
   "execution_count": null,
   "metadata": {},
   "outputs": [],
   "source": [
    "'''Creation of a tuple type'''\n",
    "\n",
    "velocity = tuple()                                  # create an emtpy \"velocity\" tuple type\n",
    "velocity = ()                                       # another way to create an empty tuple via parenthesis ()\n",
    "print('velocity is: ',velocity,'; type is: ', type(velocity))"
   ]
  },
  {
   "cell_type": "code",
   "execution_count": null,
   "metadata": {},
   "outputs": [],
   "source": [
    "'''Create a tuple with data directly'''\n",
    "\n",
    "velocity = (3.1, 4.5, -7.8)   # use the () container to create a tuple of any length\n",
    "print('velocity vector = ',velocity)\n",
    "print('velocity type   = ',type(velocity))\n",
    "\n",
    "'''Access values in the tuple'''\n",
    "\n",
    "print('velocity component 1 = ',velocity[0])    # zero offset access with indexing operator []\n",
    "print('velocity component 2 = ',velocity[1])\n",
    "print('velocity component 3 = ',velocity[2])\n",
    "#print('velocity component 4 = ',velocity[3]) # will cause an out of bounds or range error"
   ]
  },
  {
   "cell_type": "code",
   "execution_count": null,
   "metadata": {},
   "outputs": [],
   "source": [
    "'''A tuple is immutable'''\n",
    "\n",
    "#velocity[1] = 5.8      # assignment is not allowed"
   ]
  },
  {
   "cell_type": "markdown",
   "metadata": {},
   "source": [
    "### Set: immutable group of unique data types<a id=\"set\"></a>"
   ]
  },
  {
   "cell_type": "code",
   "execution_count": null,
   "metadata": {},
   "outputs": [],
   "source": [
    "'''Creation of a \"species\" dictionary type'''\n",
    "\n",
    "air = set()         # create an empty set type variable named \"air\"\n",
    "air = {}            # another way to create the same variable via curly brackets {}\n",
    "\n",
    "air = {'water', 'methane', 'argon', 'O2', 'N2','water'}  # create an \"air\" set {} container\n",
    "print('air type =',type(air))            \n",
    "print('air      = ',air)\n",
    "print('sorted air = ',sorted(air)) # what is this doing?"
   ]
  },
  {
   "cell_type": "code",
   "execution_count": null,
   "metadata": {},
   "outputs": [],
   "source": [
    "'''A set type is not ordered thus indexing is not available'''\n",
    "\n",
    "#air[0]   # produces an error\n",
    "\n",
    "weird_set = {2.3, 8, 10.1,'O2', 'iphone'}\n",
    "print('intersection =',air & weird_set)         # intersection of sets, operator \"&\"\n",
    "print('union        =',air | weird_set)                # union of sets, operator \"|\""
   ]
  },
  {
   "cell_type": "code",
   "execution_count": null,
   "metadata": {
    "scrolled": false
   },
   "outputs": [],
   "source": [
    "help(set)"
   ]
  },
  {
   "cell_type": "markdown",
   "metadata": {},
   "source": [
    "### Summary<a id=\"summary\"></a>"
   ]
  },
  {
   "cell_type": "code",
   "execution_count": null,
   "metadata": {},
   "outputs": [],
   "source": [
    "string = ''         # empty string (cryptic)\n",
    "string = str()      # empty string\n",
    "\n",
    "listing = []        # empty list (cryptic)\n",
    "listing = list()    # empty list\n",
    "\n",
    "dictionary = {}     # empty dictionary (cryptic)\n",
    "dictionary = dict() # empty dictionary\n",
    "\n",
    "tuple_a = ()        # empty tuple (cryptic)\n",
    "tuple_a = tuple()   # empty tuple\n",
    "\n",
    "set_a = {}          # empty set (cryptic and clashes with a dictionary)\n",
    "set_a = set()       # emtpty set"
   ]
  },
  {
   "cell_type": "markdown",
   "metadata": {},
   "source": [
    "### Interactive Help<a id=\"help\"></a>\n",
    "Practical help sources at the Python interactive prompt\n",
    "+ `dir()` : shows the objects in the interactive session\n",
    "+ `dir(object)` : use this built-in function on a Python *object* to obtain a list of methods\n",
    "+ `help()` : use this built-in function on anything to obtain information on what the argument does"
   ]
  },
  {
   "cell_type": "code",
   "execution_count": null,
   "metadata": {
    "scrolled": true
   },
   "outputs": [],
   "source": [
    "dir()  # show the local variables in the current session"
   ]
  },
  {
   "cell_type": "code",
   "execution_count": null,
   "metadata": {
    "scrolled": true
   },
   "outputs": [],
   "source": [
    "dir(str()) # inquire about all methods and atrributes this empty str() object has to offer"
   ]
  },
  {
   "cell_type": "code",
   "execution_count": null,
   "metadata": {
    "scrolled": true
   },
   "outputs": [],
   "source": [
    "help(str) # inquire about what the str() methods do"
   ]
  },
  {
   "cell_type": "markdown",
   "metadata": {},
   "source": [
    "## Practicing w/ Lists<a id=\"lists\"></a>"
   ]
  },
  {
   "cell_type": "code",
   "execution_count": null,
   "metadata": {},
   "outputs": [],
   "source": [
    "'''Getting data into a list data type'''\n",
    "\n",
    "my_data = range(10)                                      # create a range of integers: 0 to 9\n",
    "print('my_data = ',my_data, '\\ntype = ',type(my_data)) # not very revealing since range() does not create data until needed\n",
    "print(list(my_data))                                   # this creates a list() and reveals the data created"
   ]
  },
  {
   "cell_type": "markdown",
   "metadata": {},
   "source": [
    "Note that `my_data` is of type `range` and does not hold an explicit *range* of data (see line 2 above). Once manipulation of data is requested (line 3 above; when a `list` is created), data is created (0, 1, ... 9) by the `my_data` object. This is called *deferred evaluation*."
   ]
  },
  {
   "cell_type": "code",
   "execution_count": null,
   "metadata": {
    "scrolled": true
   },
   "outputs": [],
   "source": [
    "'''Getting help on \"range\"'''\n",
    "\n",
    "help(range)  # help on range"
   ]
  },
  {
   "cell_type": "code",
   "execution_count": null,
   "metadata": {},
   "outputs": [],
   "source": [
    "'''Data with start and stop values'''\n",
    "\n",
    "list(range(4,7))     # range(i,j) = [i,i+1,...,j-1]"
   ]
  },
  {
   "cell_type": "code",
   "execution_count": null,
   "metadata": {},
   "outputs": [],
   "source": [
    "'''Data w/ equal start and stop values'''\n",
    "\n",
    "list(range(4,4))     # empty list range(4,4) = [] "
   ]
  },
  {
   "cell_type": "code",
   "execution_count": null,
   "metadata": {},
   "outputs": [],
   "source": [
    "'''Data w/ start, stop and step values'''\n",
    "\n",
    "list(range(4,8,2))   # range(4,8,2) = [4,...,8-1] in steps of 2, i.e. [4,6]"
   ]
  },
  {
   "cell_type": "code",
   "execution_count": null,
   "metadata": {},
   "outputs": [],
   "source": [
    "'''Data w/ negative start and end values'''\n",
    "\n",
    "list(range(-10,-1,2))"
   ]
  },
  {
   "cell_type": "code",
   "execution_count": null,
   "metadata": {},
   "outputs": [],
   "source": [
    "'''Indexing access of the data'''\n",
    "\n",
    "data_lst = list(range(67,138,3))      # generate a list of integers\n",
    "print('data =', data_lst)             # show all data\n",
    "print('data length = ',len(data_lst)) # show the length of the data\n",
    "print('data_lst[5] =',data_lst[5])    # what is the offset at 5?\n",
    "#data_lst[24]                         # this causes an error"
   ]
  },
  {
   "cell_type": "code",
   "execution_count": null,
   "metadata": {},
   "outputs": [],
   "source": [
    "'''Changing data by assignment'''\n",
    "\n",
    "data_lst[3] = 'surprise'       # change the value of offset 3 to a string\n",
    "print('data = ',data_lst)    "
   ]
  },
  {
   "cell_type": "code",
   "execution_count": null,
   "metadata": {},
   "outputs": [],
   "source": [
    "'''Position of data'''\n",
    "\n",
    "data_lst.index(79)   # what is the \"first\" offset (or index) of the value 79"
   ]
  },
  {
   "cell_type": "code",
   "execution_count": null,
   "metadata": {},
   "outputs": [],
   "source": [
    "help(list.index)"
   ]
  },
  {
   "cell_type": "code",
   "execution_count": null,
   "metadata": {},
   "outputs": [],
   "source": [
    "'''Access the last element and backwards'''\n",
    "\n",
    "print(data_lst)\n",
    "print(data_lst[-1])   # use [-1] for last\n",
    "print(data_lst[-2])   # uset[-2] for penultimate element\n",
    "print(data_lst[-3])   # uset[-3] for 2 before last"
   ]
  },
  {
   "cell_type": "code",
   "execution_count": null,
   "metadata": {},
   "outputs": [],
   "source": [
    "'''Slicing operations: use the colon operator'''\n",
    "\n",
    "print(data_lst[4:6])   # access from offset 4 to up to but not including 6\n",
    "print(data_lst[0:3])   # access from the beginning up to but not including 3    \n",
    "print(data_lst[ :3])   # same thing but ommit 0\n",
    "print(data_lst[10:-1]) # offset 10 up to but not including the last\n",
    "print(data_lst[10:  ]) # offset 10 up to the last included\n",
    "print(data_lst[:])     # all\n",
    "print(data_lst[0:])    # all\n",
    "print(data_lst[-5])    # fifth from the back\n",
    "print(data_lst[-5:])   # last five"
   ]
  },
  {
   "cell_type": "code",
   "execution_count": null,
   "metadata": {},
   "outputs": [],
   "source": [
    "print(data_lst[4:16:2])  # from offset 4 up to but not including 16 in steps of 2\n",
    "print(data_lst[-10::2])  # 10th offset from the back to the end in steps of 2 (may not get the end value)"
   ]
  },
  {
   "cell_type": "code",
   "execution_count": null,
   "metadata": {},
   "outputs": [],
   "source": [
    "print(data_lst[-10::-1]) # tenth from the back to the beginning"
   ]
  },
  {
   "cell_type": "code",
   "execution_count": null,
   "metadata": {},
   "outputs": [],
   "source": [
    "'''Append data to a list'''\n",
    "\n",
    "print(data_lst)"
   ]
  },
  {
   "cell_type": "code",
   "execution_count": null,
   "metadata": {},
   "outputs": [],
   "source": [
    "data_lst.append('hello')\n",
    "\n",
    "print(data_lst)"
   ]
  },
  {
   "cell_type": "markdown",
   "metadata": {},
   "source": [
    "## Practicing w/ Dictionaries <a id=\"dictionaries\"></a>"
   ]
  },
  {
   "cell_type": "code",
   "execution_count": null,
   "metadata": {},
   "outputs": [],
   "source": [
    "'''Data organization'''\n",
    "\n",
    "hydrogen  = {'symbol':'H',  'atomic_number':1, 'group':1,  'period':1, 'isotopes':[1,2,3]}\n",
    "helium    = {'symbol':'He', 'atomic_number':2, 'group':18, 'period':1, 'isotopes':[3,4]}\n",
    "lithium   = {'symbol':'Li', 'atomic_number':3, 'group':1,  'period':2, 'isotopes':[6,7]}\n",
    "beryllium = {'symbol':'Be', 'atomic_number':4, 'group':2,  'period':2, 'isotopes':[9,10]}\n",
    "boron     = {'symbol':'B',  'atomic_number':5, 'group':13, 'period':2, 'isotopes':[10,11]}\n",
    "#\n",
    "print(hydrogen)\n",
    "print(helium)\n",
    "print(lithium)\n",
    "print(beryllium)\n",
    "print(boron)\n",
    "print('H isotopes =', hydrogen['isotopes'])\n",
    "print('H atomic number =', hydrogen['atomic_number'])"
   ]
  },
  {
   "cell_type": "code",
   "execution_count": null,
   "metadata": {},
   "outputs": [],
   "source": [
    "'''Data operation with list comprehension'''\n",
    "\n",
    "h_neutrons = [ i - hydrogen['atomic_number'] for i in hydrogen['isotopes'] ] # list comprehension operation\n",
    "print('H  neutrons per isotope =', h_neutrons)\n",
    "\n",
    "he_neutrons = [i - helium['atomic_number'] for i in helium['isotopes'] ]     # list comprehension operation\n",
    "print('He neutrons per isotope =', he_neutrons)"
   ]
  },
  {
   "cell_type": "code",
   "execution_count": null,
   "metadata": {},
   "outputs": [],
   "source": [
    "'''Systematic operation on all elements of `periodic_table`'''\n",
    "\n",
    "periodic_table = {'hydrogen':hydrogen, 'helium':helium, 'lithium':lithium, 'beryllium':beryllium, 'boron':boron}\n",
    "print(periodic_table['helium'],'\\n')\n",
    "print(periodic_table.keys(),'\\n')\n",
    "\n",
    "for key in periodic_table.keys():  # loop statement\n",
    "    element = periodic_table[key]  # note indentation\n",
    "    neutrons_per_isotopes = [i - element['atomic_number'] for i in element['isotopes'] ]\n",
    "    print('element = ', element['symbol'],' neutrons per isotope ',element['isotopes'],' =', neutrons_per_isotopes)\n"
   ]
  },
  {
   "cell_type": "markdown",
   "metadata": {},
   "source": [
    "## Practicing w/ Tuples<a id=\"tuples\"></a>"
   ]
  },
  {
   "cell_type": "code",
   "execution_count": null,
   "metadata": {},
   "outputs": [],
   "source": [
    "'''Tuples have limited operations'''\n",
    "\n",
    "veloc_a = (1.2, -3.2, 5.0)\n",
    "veloc_b = (0.0, 3.0, 0.12)\n",
    "print('concatenate: ', veloc_a + veloc_b)   # surprise: concatenation under + operator"
   ]
  },
  {
   "cell_type": "code",
   "execution_count": null,
   "metadata": {
    "scrolled": true
   },
   "outputs": [],
   "source": [
    "dir(veloc_a)"
   ]
  },
  {
   "cell_type": "code",
   "execution_count": null,
   "metadata": {},
   "outputs": [],
   "source": [
    "help(tuple.count)"
   ]
  },
  {
   "cell_type": "code",
   "execution_count": null,
   "metadata": {},
   "outputs": [],
   "source": [
    "'''Tuples have limited operations'''\n",
    "\n",
    "print('is veloc_a < veloc_b ?', veloc_a < veloc_b)\n",
    "print('3 * veloc_a = ', 3 * veloc_a)\n",
    "print('3*veloc_a.count(1.2) =', 3 * veloc_a.count(1.2))\n",
    "print('len(veloc_a) = ', len(veloc_a))"
   ]
  },
  {
   "cell_type": "code",
   "execution_count": null,
   "metadata": {},
   "outputs": [],
   "source": [
    "'''Slicing also works for tuples'''\n",
    "\n",
    "print(veloc_a[0:-1])   # slice from offset 0 up to but not including the last"
   ]
  },
  {
   "cell_type": "markdown",
   "metadata": {},
   "source": [
    "## Practicing w/ Sets<a id=\"sets\"></a>"
   ]
  },
  {
   "cell_type": "code",
   "execution_count": null,
   "metadata": {},
   "outputs": [],
   "source": [
    "'''Sets are primarily used to keep track of non-repeating data and for math set operations'''\n",
    "\n",
    "a = set()           # create an empty set\n",
    "a = {'hello','you'} # assign data\n",
    "print('a =',a)\n",
    "a.add(90)           # add element to set\n",
    "print('a =',a)\n",
    "#a.add(  ['a','b']  )    # cannot add an mutable to a set; list and dict not allowed\n",
    "b = {100, 200, True, False}\n",
    "print('b =',b)\n",
    "print('a intersect b =',a.intersection(b)) #  &\n",
    "print('a union.    b =',a.union(b))        #  |"
   ]
  },
  {
   "cell_type": "code",
   "execution_count": null,
   "metadata": {},
   "outputs": [],
   "source": [
    "'''Check methods available in a set object'''\n",
    "\n",
    "dir(a)"
   ]
  },
  {
   "cell_type": "code",
   "execution_count": null,
   "metadata": {},
   "outputs": [],
   "source": [
    "'''Get info on the discard method'''\n",
    "\n",
    "help(set.discard)"
   ]
  },
  {
   "cell_type": "code",
   "execution_count": null,
   "metadata": {},
   "outputs": [],
   "source": [
    "'''Discard set elements'''\n",
    "\n",
    "print(a)\n",
    "a.discard('hello')\n",
    "print(a)\n",
    "a.discard('100')\n",
    "print(a)"
   ]
  },
  {
   "cell_type": "code",
   "execution_count": null,
   "metadata": {},
   "outputs": [],
   "source": [
    "'''Test for subsets'''\n",
    "\n",
    "{1,2,3}.issubset(range(5))"
   ]
  },
  {
   "cell_type": "code",
   "execution_count": null,
   "metadata": {},
   "outputs": [],
   "source": [
    "'''Remove any one element'''\n",
    "\n",
    "element = a.pop()\n",
    "print(element)"
   ]
  },
  {
   "cell_type": "code",
   "execution_count": null,
   "metadata": {},
   "outputs": [],
   "source": [
    "help(set.pop)"
   ]
  },
  {
   "cell_type": "code",
   "execution_count": null,
   "metadata": {},
   "outputs": [],
   "source": [
    "'''Inquire about element inclusion'''\n",
    "\n",
    "print('b =',b)\n",
    "\n",
    "200 in b and True in b"
   ]
  }
 ],
 "metadata": {
  "kernelspec": {
   "display_name": "Python 3",
   "language": "python",
   "name": "python3"
  },
  "language_info": {
   "codemirror_mode": {
    "name": "ipython",
    "version": 3
   },
   "file_extension": ".py",
   "mimetype": "text/x-python",
   "name": "python",
   "nbconvert_exporter": "python",
   "pygments_lexer": "ipython3",
   "version": "3.7.3"
  },
  "latex_envs": {
   "LaTeX_envs_menu_present": true,
   "autoclose": false,
   "autocomplete": true,
   "bibliofile": "biblio.bib",
   "cite_by": "apalike",
   "current_citInitial": 1,
   "eqLabelWithNumbers": true,
   "eqNumInitial": 1,
   "hotkeys": {
    "equation": "Ctrl-E",
    "itemize": "Ctrl-I"
   },
   "labels_anchors": false,
   "latex_user_defs": false,
   "report_style_numbering": false,
   "user_envs_cfg": false
  }
 },
 "nbformat": 4,
 "nbformat_minor": 2
}
