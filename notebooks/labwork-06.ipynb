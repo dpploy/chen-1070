{
 "cells": [
  {
   "cell_type": "markdown",
   "metadata": {},
   "source": [
    "ChEn-1070: Introduction to Chemical Engineering Spring 2019 UMass Lowell; Profs. Manohar and de Almeida **03Nov2019**\n",
    "\n",
    "# Laboratory Work 06 05Nov2019\n"
   ]
  },
  {
   "cell_type": "markdown",
   "metadata": {},
   "source": [
    "### Name: `your name`"
   ]
  },
  {
   "cell_type": "markdown",
   "metadata": {},
   "source": [
    "### Rubric for each assignment: \n",
    "\n",
    "|         Context                    |  Points |\n",
    "| -----------------------     | ------- |\n",
    "| Precision of the answer     |   80%   |\n",
    "| Answer Markdown readability |   10%   |\n",
    "| Code readability            |   10%   |\n",
    "    "
   ]
  },
  {
   "cell_type": "markdown",
   "metadata": {},
   "source": [
    "### <span style=\"color:red\">Guidance:</span>\n",
    " +  <span style=\"color:red\"> \n",
    "    Save your work frequently to a file locally to your computer.\n",
    "    </span>\n",
    " +  <span style=\"color:red\">\n",
    "    During your work and before submitting the final version do: `Kernel` -> `Restart & Run All`, to verify your notebook runs correctly.\n",
    "    </span>\n",
    " +  <span style=\"color:red\">\n",
    "    Save your file again.\n",
    "    </span>"
   ]
  },
  {
   "cell_type": "markdown",
   "metadata": {},
   "source": [
    "## <span style=\"color:blue\">Assignment 1 (20 pts).</span>\n",
    "### <span style=\"color:blue\">Using `mendeleev` and `scipy.constants`, calculate \n",
    " + the molar mass of butanol (g/mol) with 6 significant figures,\n",
    " + the molar mass of methylethyl ketone, (g/mol) with 6 significant figures,\n",
    " + the molar mass of  ethylene glycol, (g/mol) with 6 significant figures,\n",
    " + the number of atoms in one mole of each substance with 7 significant figures.\n",
    "</span>"
   ]
  },
  {
   "cell_type": "code",
   "execution_count": 18,
   "metadata": {},
   "outputs": [
    {
     "name": "stdout",
     "output_type": "stream",
     "text": [
      "molar mass C4H9OH [g/mol] = 7.41230e+01\n",
      "atoms per mol C4H9OH = 9.03321e+24\n",
      "\n",
      "molar mass CH3C(O)CH2CH3 [g/mol] = 7.21070e+01\n",
      "atoms per mol CH3C(O)CH2CH3 = 7.82878e+24\n",
      "\n",
      "molar mass (CH2OH)2 [g/mol] = 6.20680e+01\n",
      "atoms per mol (CH2OH)2 = 6.02214e+24\n",
      "\n"
     ]
    }
   ],
   "source": []
  },
  {
   "cell_type": "markdown",
   "metadata": {},
   "source": [
    "## <span style=\"color:blue\">Assignment 2 (20 pts).</span>\n",
    "### <span style=\"color:blue\">Using `mendeleev` and `scipy.constants`, compute the values of:\n",
    "  + Boiling point (Rankine)\n",
    "  + Evaporation heat in one mole (kcal)\n",
    "  + mass density (g/mL)\n",
    "    \n",
    "### <span style=\"color:blue\"> for lithium using 6 significant figures</span>"
   ]
  },
  {
   "cell_type": "code",
   "execution_count": null,
   "metadata": {},
   "outputs": [],
   "source": []
  },
  {
   "cell_type": "markdown",
   "metadata": {},
   "source": [
    "## <span style=\"color:blue\">Assignment 3 (20 pts).</span>\n",
    "### <span style=\"color:blue\">Using `mendeleev` and `scipy.constants`, compute the energy density $\\rho\\,c_p\\,\\Delta T$ for titanium where:\n",
    "  + $\\rho$ is the mass density\n",
    "  + $c_p$ is the heat capacity\n",
    "  + $\\Delta T = 231$ F\n",
    "    \n",
    "### <span style=\"color:blue\"> and express the result in kcal/cm$^3$ using 6 significant figures</span>"
   ]
  },
  {
   "cell_type": "code",
   "execution_count": null,
   "metadata": {},
   "outputs": [],
   "source": []
  },
  {
   "cell_type": "markdown",
   "metadata": {},
   "source": [
    "## <span style=\"color:blue\">Assignment 4 (20 pts).</span>\n",
    "### <span style=\"color:blue\">Using `mendeleev` and `scipy.constants`, compute the mole flow rate per minute of 567.67 gallon/h of butanol when its mass density is 0.712 g/cc; use 4 significant digits.</span>"
   ]
  },
  {
   "cell_type": "code",
   "execution_count": null,
   "metadata": {},
   "outputs": [],
   "source": []
  },
  {
   "cell_type": "markdown",
   "metadata": {},
   "source": [
    "## <span style=\"color:blue\">Assignment 5 (20 pts).</span>\n",
    "### <span style=\"color:blue\">In a mixture of ethylene glycol and water, their mass concentrations are 0.67 g/cc and 0.34 g/cc, compute the mass density of the solution in lb/in$^3$. Using `mendeleev` and `scipy.constants`, present the response with 6 significant figures.</span>"
   ]
  },
  {
   "cell_type": "code",
   "execution_count": null,
   "metadata": {},
   "outputs": [],
   "source": []
  }
 ],
 "metadata": {
  "kernelspec": {
   "display_name": "Python 3",
   "language": "python",
   "name": "python3"
  },
  "language_info": {
   "codemirror_mode": {
    "name": "ipython",
    "version": 3
   },
   "file_extension": ".py",
   "mimetype": "text/x-python",
   "name": "python",
   "nbconvert_exporter": "python",
   "pygments_lexer": "ipython3",
   "version": "3.7.1"
  },
  "latex_envs": {
   "LaTeX_envs_menu_present": true,
   "autoclose": false,
   "autocomplete": true,
   "bibliofile": "biblio.bib",
   "cite_by": "apalike",
   "current_citInitial": 1,
   "eqLabelWithNumbers": true,
   "eqNumInitial": 1,
   "hotkeys": {
    "equation": "Ctrl-E",
    "itemize": "Ctrl-I"
   },
   "labels_anchors": false,
   "latex_user_defs": false,
   "report_style_numbering": false,
   "user_envs_cfg": false
  }
 },
 "nbformat": 4,
 "nbformat_minor": 2
}
