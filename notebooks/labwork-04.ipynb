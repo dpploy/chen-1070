{
 "cells": [
  {
   "cell_type": "markdown",
   "metadata": {},
   "source": [
    "ChEn-1070: Introduction to Chemical Engineering Fall 2019 UMass Lowell; Profs. Manohar and de Almeida **21Oct2019**\n",
    "\n",
    "# Laboratory Work 04 22Oct2019\n"
   ]
  },
  {
   "cell_type": "markdown",
   "metadata": {},
   "source": [
    "### Name: `your name`"
   ]
  },
  {
   "cell_type": "markdown",
   "metadata": {},
   "source": [
    "### Rubric for each assignment: \n",
    "\n",
    "|         Context                    |  Points |\n",
    "| -----------------------     | ------- |\n",
    "| Precision of the answer     |   80%   |\n",
    "| Answer Markdown readability |   10%   |\n",
    "| Code readability            |   10%   |\n",
    "    "
   ]
  },
  {
   "cell_type": "markdown",
   "metadata": {},
   "source": [
    "### <span style=\"color:red\">Guidance:</span>\n",
    " +  <span style=\"color:red\"> \n",
    "    Save your work frequently to a file locally to your computer.\n",
    "    </span>\n",
    " +  <span style=\"color:red\">\n",
    "    During your work and before submitting the final version do: `Kernel` -> `Restart & Run All`, to verify your notebook runs correctly.\n",
    "    </span>\n",
    " +  <span style=\"color:red\">\n",
    "    Save your file again.\n",
    "    </span>"
   ]
  },
  {
   "cell_type": "markdown",
   "metadata": {},
   "source": [
    "## <span style=\"color:blue\">Assignment 1 (20 pts).</span>\n",
    "### <span style=\"color:blue\">Convert 235.78 $\\mu$m to centimeter and compute (print) the conversion factor</span>"
   ]
  },
  {
   "cell_type": "code",
   "execution_count": 1,
   "metadata": {},
   "outputs": [
    {
     "name": "stdout",
     "output_type": "stream",
     "text": [
      "converted [cm] = 0.0236\n",
      "multiplying factor = 1.0000e-04\n"
     ]
    }
   ],
   "source": [
    "import scipy.constants as const\n",
    "\n",
    "value = 235.78 * const.micron\n",
    "\n",
    "converted = value / const.centi\n",
    "\n",
    "micro_to_centi = const.micron / const.centi\n",
    "\n",
    "print('converted [cm] = %2.4f'%(converted))\n",
    "print('multiplying factor = %2.4e'%(micro_to_centi))"
   ]
  },
  {
   "cell_type": "markdown",
   "metadata": {},
   "source": [
    "## <span style=\"color:blue\">Assignment 2 (20 pts).</span>\n",
    "### <span style=\"color:blue\">Convert 38.57 gallons to liter and compute (print) the conversion factor.</span>"
   ]
  },
  {
   "cell_type": "code",
   "execution_count": null,
   "metadata": {},
   "outputs": [],
   "source": []
  },
  {
   "cell_type": "markdown",
   "metadata": {},
   "source": [
    "## <span style=\"color:blue\">Assignment 3 (20 pts).</span>\n",
    "### <span style=\"color:blue\">Convert 1345.789 psi to bar and compute (print) the conversion factor.</span>"
   ]
  },
  {
   "cell_type": "code",
   "execution_count": null,
   "metadata": {},
   "outputs": [],
   "source": []
  },
  {
   "cell_type": "markdown",
   "metadata": {},
   "source": [
    "## <span style=\"color:blue\">Assignment 4 (20 pts).</span>\n",
    "### <span style=\"color:blue\">Convert 784.12 K to Celsius and compute (print) the conversion factor.</span>"
   ]
  },
  {
   "cell_type": "code",
   "execution_count": null,
   "metadata": {},
   "outputs": [],
   "source": []
  },
  {
   "cell_type": "markdown",
   "metadata": {},
   "source": [
    "## <span style=\"color:blue\">Assignment 5 (20 pts).</span>\n",
    "### <span style=\"color:blue\">Compute (print) the total energy in kilo-calories per 24 hours for a heat source that produces 1.13 Joule per second. Develop your code following your thought process and explain it in a Markdown cell below the code.</span>"
   ]
  },
  {
   "cell_type": "code",
   "execution_count": null,
   "metadata": {},
   "outputs": [],
   "source": []
  },
  {
   "cell_type": "markdown",
   "metadata": {},
   "source": [
    "**Explain here:**"
   ]
  }
 ],
 "metadata": {
  "kernelspec": {
   "display_name": "Python 3",
   "language": "python",
   "name": "python3"
  },
  "language_info": {
   "codemirror_mode": {
    "name": "ipython",
    "version": 3
   },
   "file_extension": ".py",
   "mimetype": "text/x-python",
   "name": "python",
   "nbconvert_exporter": "python",
   "pygments_lexer": "ipython3",
   "version": "3.7.1"
  },
  "latex_envs": {
   "LaTeX_envs_menu_present": true,
   "autoclose": false,
   "autocomplete": true,
   "bibliofile": "biblio.bib",
   "cite_by": "apalike",
   "current_citInitial": 1,
   "eqLabelWithNumbers": true,
   "eqNumInitial": 1,
   "hotkeys": {
    "equation": "Ctrl-E",
    "itemize": "Ctrl-I"
   },
   "labels_anchors": false,
   "latex_user_defs": false,
   "report_style_numbering": false,
   "user_envs_cfg": false
  }
 },
 "nbformat": 4,
 "nbformat_minor": 2
}
