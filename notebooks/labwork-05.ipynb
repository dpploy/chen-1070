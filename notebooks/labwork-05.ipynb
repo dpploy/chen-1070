{
 "cells": [
  {
   "cell_type": "markdown",
   "metadata": {},
   "source": [
    "ChEn-1070: Introduction to Chemical Engineering Spring 2019 UMass Lowell; Profs. Manohar and de Almeida **29Oct2019**\n",
    "\n",
    "# Laboratory Work 05 29Oct2019\n"
   ]
  },
  {
   "cell_type": "markdown",
   "metadata": {},
   "source": [
    "### Name: `your name`"
   ]
  },
  {
   "cell_type": "markdown",
   "metadata": {},
   "source": [
    "### Rubric for each assignment: \n",
    "\n",
    "|         Context                    |  Points |\n",
    "| -----------------------     | ------- |\n",
    "| Precision of the answer     |   80%   |\n",
    "| Answer Markdown readability |   10%   |\n",
    "| Code readability            |   10%   |\n",
    "    "
   ]
  },
  {
   "cell_type": "markdown",
   "metadata": {},
   "source": [
    "### <span style=\"color:red\">Guidance:</span>\n",
    " +  <span style=\"color:red\"> \n",
    "    Save your work frequently to a file locally to your computer.\n",
    "    </span>\n",
    " +  <span style=\"color:red\">\n",
    "    During your work and before submitting the final version do: `Kernel` -> `Restart & Run All`, to verify your notebook runs correctly.\n",
    "    </span>\n",
    " +  <span style=\"color:red\">\n",
    "    Save your file again.\n",
    "    </span>"
   ]
  },
  {
   "cell_type": "markdown",
   "metadata": {},
   "source": [
    "## <span style=\"color:blue\">Assignment 1 (20 pts).</span>\n",
    "### <span style=\"color:blue\">Using `mendeleev` and `scipy.constants`, calculate \n",
    " + the molar mass of H$_2$SO$_4$ (g/mol) with 5 significant figures,\n",
    " + the molar mass of H$_2$O (g/mol) with 5 significant figures, \n",
    " + the number of atoms in one mole of each substance with 7 significant figures.\n",
    "\n",
    "</span>"
   ]
  },
  {
   "cell_type": "code",
   "execution_count": 57,
   "metadata": {},
   "outputs": [
    {
     "name": "stdout",
     "output_type": "stream",
     "text": [
      "molar mass H2SO4 [g/mol] = 9.8072e+01\n",
      "molar mass H2O [g/mol] = 1.8015e+01\n",
      "# of atoms per mole of H2SO4 = 4.215499e+24\n",
      "# of atoms per mole of H2O   = 1.806642e+24\n"
     ]
    }
   ],
   "source": []
  },
  {
   "cell_type": "markdown",
   "metadata": {},
   "source": [
    "## <span style=\"color:blue\">Assignment 2 (20 pts).</span>\n",
    "### <span style=\"color:blue\">Using `mendeleev` and `scipy.constants`, compute the values of:\n",
    "  + Boiling point (Celsius)\n",
    "  + Evaporation heat in one mole (Btu)\n",
    "  + mass density (lb/in$^3$)\n",
    "    \n",
    "### <span style=\"color:blue\"> for sodium using 6 significant figures</span>"
   ]
  },
  {
   "cell_type": "code",
   "execution_count": 6,
   "metadata": {},
   "outputs": [
    {
     "name": "stdout",
     "output_type": "stream",
     "text": [
      "Na boiling point [C] = 8.82950e+02\n",
      "Na heat capacity [Btu] = 9.27913e+01\n",
      "Na mass density [lb/in^3] = 3.50796e-02\n"
     ]
    }
   ],
   "source": []
  },
  {
   "cell_type": "markdown",
   "metadata": {},
   "source": [
    "## <span style=\"color:blue\">Assignment 3 (20 pts).</span>\n",
    "### <span style=\"color:blue\">Using `mendeleev` and `scipy.constants`, compute the energy density $\\rho\\,c_p\\,\\Delta T$ for iron where:\n",
    "  + $\\rho$ is the mass density\n",
    "  + $c_p$ is the heat capacity\n",
    "  + $\\Delta T = 86.7$ K\n",
    "    \n",
    "### <span style=\"color:blue\"> and express the result in Btu/in^3 using 6 significant figures</span>"
   ]
  },
  {
   "cell_type": "code",
   "execution_count": 7,
   "metadata": {},
   "outputs": [
    {
     "name": "stdout",
     "output_type": "stream",
     "text": [
      "Fe energy density [Btu/in^3] = 4.69725e+00\n"
     ]
    }
   ],
   "source": []
  },
  {
   "cell_type": "markdown",
   "metadata": {},
   "source": [
    "## <span style=\"color:blue\">Assignment 4 (20 pts).</span>\n",
    "### <span style=\"color:blue\">Using `mendeleev` and `scipy.constants`, compute the mole flow rate per minute of 9.45 L/min of dodecane when its mass density is 0.75 g/cc; use 4 significant digits.</span>"
   ]
  },
  {
   "cell_type": "code",
   "execution_count": 8,
   "metadata": {},
   "outputs": [
    {
     "name": "stdout",
     "output_type": "stream",
     "text": [
      "molar flow rate [mole/min] = 4.161e+01\n"
     ]
    }
   ],
   "source": []
  },
  {
   "cell_type": "markdown",
   "metadata": {},
   "source": [
    "## <span style=\"color:blue\">Assignment 5 (20 pts).</span>\n",
    "### <span style=\"color:blue\">In a mixture of ethanol and water, their mass concentrations are 0.45 g/cc and 0.83 g/cc, compute the molar density of the solution in mol/L. Using `mendeleev` and `scipy.constants`, present the result with 5 significant figures.</span>"
   ]
  },
  {
   "cell_type": "code",
   "execution_count": 10,
   "metadata": {},
   "outputs": [
    {
     "name": "stdout",
     "output_type": "stream",
     "text": [
      "solution molar density [mol/L] = 5.5841e+01\n"
     ]
    }
   ],
   "source": []
  }
 ],
 "metadata": {
  "kernelspec": {
   "display_name": "Python 3",
   "language": "python",
   "name": "python3"
  },
  "language_info": {
   "codemirror_mode": {
    "name": "ipython",
    "version": 3
   },
   "file_extension": ".py",
   "mimetype": "text/x-python",
   "name": "python",
   "nbconvert_exporter": "python",
   "pygments_lexer": "ipython3",
   "version": "3.7.1"
  },
  "latex_envs": {
   "LaTeX_envs_menu_present": true,
   "autoclose": false,
   "autocomplete": true,
   "bibliofile": "biblio.bib",
   "cite_by": "apalike",
   "current_citInitial": 1,
   "eqLabelWithNumbers": true,
   "eqNumInitial": 1,
   "hotkeys": {
    "equation": "Ctrl-E",
    "itemize": "Ctrl-I"
   },
   "labels_anchors": false,
   "latex_user_defs": false,
   "report_style_numbering": false,
   "user_envs_cfg": false
  }
 },
 "nbformat": 4,
 "nbformat_minor": 2
}
